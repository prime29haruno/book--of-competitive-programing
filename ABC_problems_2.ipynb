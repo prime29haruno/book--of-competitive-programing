{
  "nbformat": 4,
  "nbformat_minor": 0,
  "metadata": {
    "colab": {
      "provenance": [],
      "authorship_tag": "ABX9TyPjxjkUzNguHzHK+dRFBCIT",
      "include_colab_link": true
    },
    "kernelspec": {
      "name": "python3",
      "display_name": "Python 3"
    },
    "language_info": {
      "name": "python"
    }
  },
  "cells": [
    {
      "cell_type": "markdown",
      "metadata": {
        "id": "view-in-github",
        "colab_type": "text"
      },
      "source": [
        "<a href=\"https://colab.research.google.com/github/prime29haruno/book--of-competitive-programing/blob/main/ABC_problems_2.ipynb\" target=\"_parent\"><img src=\"https://colab.research.google.com/assets/colab-badge.svg\" alt=\"Open In Colab\"/></a>"
      ]
    },
    {
      "cell_type": "markdown",
      "source": [
        "**ABC 162 B問題**\n",
        "\n",
        "FizzBuzz列\n",
        "a\n",
        "1\n",
        "​\n",
        " ,a\n",
        "2\n",
        "​\n",
        " ,... を次のように定めます。\n",
        "\n",
        "・i が\n",
        "3 でも\n",
        "5 でも割り切れるなら、\n",
        "a\n",
        "i\n",
        "​\n",
        " =FizzBuzz\n",
        "\n",
        "・そうではなく\n",
        "i が\n",
        "3 で割り切れるなら、\n",
        "a\n",
        "i\n",
        "​\n",
        " =Fizz\n",
        "\n",
        "・そうではなく\n",
        "i が\n",
        "5 で割り切れるなら、\n",
        "a\n",
        "i\n",
        "​\n",
        " =Buzz\n",
        "\n",
        "・そうではないなら、\n",
        "a\n",
        "i\n",
        "​\n",
        " =i\n",
        "\n",
        "FizzBuzz列の\n",
        "N 項目までに含まれる数の和を求めてください。\n",
        "\n",
        "**制約**\n",
        "1≤N≤10^6\n",
        "\n",
        "**入力** N\n",
        "\n",
        "**出力**\n",
        "FizzBuzz列の\n",
        "N 項目までに含まれる数の和を出力せよ。"
      ],
      "metadata": {
        "id": "ajc1OT2KIhlW"
      }
    },
    {
      "cell_type": "code",
      "execution_count": null,
      "metadata": {
        "colab": {
          "base_uri": "https://localhost:8080/"
        },
        "id": "Ysc4hc9kId8y",
        "outputId": "4c0ff0f5-15d9-4c30-f990-ddaf4512cce5"
      },
      "outputs": [
        {
          "output_type": "stream",
          "name": "stdout",
          "text": [
            "1000000\n",
            "266666333332\n"
          ]
        }
      ],
      "source": [
        "N = int(input())\n",
        "\n",
        "result = 0\n",
        "\n",
        "for i in range(1, N + 1):\n",
        "  if i % 3 != 0 and i % 5 != 0:\n",
        "    result += i\n",
        "\n",
        "print(result)"
      ]
    },
    {
      "cell_type": "markdown",
      "source": [
        "**ABC 206 B問題**\n",
        "\n",
        "シカのAtCoDeerくんは、空の貯金箱を持っています。\n",
        "AtCoDeerくんは、その貯金箱に、\n",
        "1 日目の朝に\n",
        "1 円、\n",
        "2 日目の朝に\n",
        "2 円\n",
        "… というように、\n",
        "i 日目の朝に\n",
        "i 円を貯金箱に入れます。\n",
        "また、AtCoDeerくんは、毎日夜に貯金箱にいくら入っているかを確認します。\n",
        "AtCoDeerくんが貯金箱に\n",
        "N 円以上入っていることを初めて確認するのは、何日目の夜でしょうか?\n",
        "\n",
        "**制約**　・1≤N≤10^9　・N は整数\n",
        "\n",
        "**入力** N\n",
        "\n",
        "**出力**\n",
        "答えを整数として出力せよ。"
      ],
      "metadata": {
        "id": "pULysJKoM9Ie"
      }
    },
    {
      "cell_type": "code",
      "source": [
        "N = int(input())\n",
        "\n",
        "result = 0\n",
        "i = 1\n",
        "\n",
        "while result < N:\n",
        "  result += i\n",
        "  i += 1\n",
        "\n",
        "i = i - 1\n",
        "\n",
        "print(i)"
      ],
      "metadata": {
        "colab": {
          "base_uri": "https://localhost:8080/"
        },
        "id": "LkZXpmY8Kiao",
        "outputId": "8ef6bb35-7d38-44e6-ea67-c698cde86ae0"
      },
      "execution_count": null,
      "outputs": [
        {
          "output_type": "stream",
          "name": "stdout",
          "text": [
            "100128\n",
            "447\n"
          ]
        }
      ]
    },
    {
      "cell_type": "markdown",
      "source": [
        "**ABC 165 B問題**\n",
        "\n",
        "高橋くんはAtCoder銀行に\n",
        "100 円を預けています。\n",
        "\n",
        "AtCoder銀行では、毎年預金額の\n",
        "1 % の利子がつきます(複利、小数点以下切り捨て)。\n",
        "\n",
        "利子以外の要因で預金額が変化することはないと仮定したとき、高橋くんの預金額が初めて\n",
        "X 円以上になるのは何年後でしょうか。\n",
        "\n",
        "**制約**\n",
        "・101≤X≤10^18\n",
        " ・入力はすべて整数\n",
        "\n",
        "**入力** X\n",
        "\n",
        "**出力**\n",
        "高橋くんの預金額が初めて\n",
        "X 円以上になるのは何年後かを出力せよ。"
      ],
      "metadata": {
        "id": "oam7fq_YSUJl"
      }
    },
    {
      "cell_type": "code",
      "source": [
        "X = int(input())\n",
        "\n",
        "result = 100\n",
        "i = 0\n",
        "\n",
        "while result < X:\n",
        "  result = result * 101 // 100\n",
        "  i += 1\n",
        "\n",
        "print(i)"
      ],
      "metadata": {
        "colab": {
          "base_uri": "https://localhost:8080/"
        },
        "id": "Fz0G5PH4OpDv",
        "outputId": "c479eebe-0dba-469e-b196-3d280a5dc802"
      },
      "execution_count": null,
      "outputs": [
        {
          "output_type": "stream",
          "name": "stdout",
          "text": [
            "1000000000000000000\n",
            "3760\n"
          ]
        }
      ]
    },
    {
      "cell_type": "markdown",
      "source": [
        "**ABC 200 B問題**\n",
        "\n",
        "整数\n",
        "N が与えられます。\n",
        "以下の操作を\n",
        "K 回行った後の整数\n",
        "N を出力してください。\n",
        "\n",
        "・整数\n",
        "N が\n",
        "200 の倍数であれば、\n",
        "N を\n",
        "200 で割る。\n",
        "\n",
        "・そうでなければ、整数\n",
        "N を、\n",
        "N の後ろに文字列として\n",
        "200 を付け加えた整数に置き換える。\n",
        "\n",
        "例えば、\n",
        "7 を置き換えると\n",
        "7200 に、\n",
        "1234 を置き換えると\n",
        "1234200 になります。\n",
        "\n",
        "**制約**\n",
        "・入力は全て整数\n",
        "・1≤N≤10^5\n",
        "・1≤K≤20\n",
        "\n",
        "**入力** N K\n",
        "\n",
        "**出力** 答えを整数として出力せよ。"
      ],
      "metadata": {
        "id": "hmO0rfQj9AaV"
      }
    },
    {
      "cell_type": "code",
      "source": [
        "N, K = map(int, input().split())\n",
        "\n",
        "i = 0\n",
        "result = N\n",
        "\n",
        "while i < K:\n",
        "  if result % 200 == 0:\n",
        "    result = result // 200\n",
        "  else:\n",
        "    result = result * 1000 + 200\n",
        "  i += 1\n",
        "\n",
        "print(result)"
      ],
      "metadata": {
        "id": "nKBpasXkTEYz",
        "colab": {
          "base_uri": "https://localhost:8080/"
        },
        "outputId": "b3055e11-25bf-4819-ebf9-e7ae93ab8b21"
      },
      "execution_count": null,
      "outputs": [
        {
          "output_type": "stream",
          "name": "stdout",
          "text": [
            "8691 20\n",
            "84875488281\n"
          ]
        }
      ]
    },
    {
      "cell_type": "markdown",
      "source": [
        "**ABC 164 B問題**\n",
        "\n",
        "高橋君と青木君がモンスターを闘わせます。\n",
        "\n",
        "高橋君のモンスターは体力が\n",
        "A で攻撃力が\n",
        "B です。 青木君のモンスターは体力が\n",
        "C で攻撃力が\n",
        "D です。\n",
        "\n",
        "高橋君→青木君→高橋君→青木君→... の順に攻撃を行います。 攻撃とは、相手のモンスターの体力の値を自分のモンスターの攻撃力のぶんだけ減らすことをいいます。 このことをどちらかのモンスターの体力が\n",
        "0 以下になるまで続けたとき、 先に自分のモンスターの体力が\n",
        "0 以下になった方の負け、そうでない方の勝ちです。\n",
        "\n",
        "高橋君が勝つなら Yes、負けるなら No を出力してください。\n",
        "\n",
        "**制約**\n",
        "1≤A,B,C,D≤100\n",
        "入力はすべて整数である。\n",
        "\n",
        "**入力** A B C D\n",
        "\n",
        "**出力** 高橋君が勝つなら Yes、負けるなら No を出力せよ。"
      ],
      "metadata": {
        "id": "xPsjlnWM_uDW"
      }
    },
    {
      "cell_type": "code",
      "source": [
        "A, B, C, D = map(int, input().split())\n",
        "\n",
        "if C % B == 0:\n",
        "  i = C // B\n",
        "else:\n",
        "  i = (C // B) + 1\n",
        "\n",
        "if A % D == 0:\n",
        "  j = A // D\n",
        "else:\n",
        "  j = (A // D) + 1\n",
        "\n",
        "if i <= j:\n",
        "  print(\"Yes\")\n",
        "else:\n",
        "  print(\"No\")"
      ],
      "metadata": {
        "colab": {
          "base_uri": "https://localhost:8080/"
        },
        "id": "wVi7OkoQ-o5a",
        "outputId": "eeb87a80-7ddf-4b72-eb3c-a80ee5e33ef8"
      },
      "execution_count": null,
      "outputs": [
        {
          "output_type": "stream",
          "name": "stdout",
          "text": [
            "46 4 40 5\n",
            "Yes\n"
          ]
        }
      ]
    },
    {
      "cell_type": "markdown",
      "source": [
        "**ABC 208 B問題**\n",
        "\n",
        "高橋王国では\n",
        "1! 円硬貨\n",
        ",2! 円硬貨\n",
        ",…,10! 円硬貨が流通しています。ここで、\n",
        "N!=1×2×⋯×N です。\n",
        "\n",
        "高橋君は全ての種類の硬貨を\n",
        "100 枚ずつ持っており、\n",
        "P 円の商品をお釣りが出ないようにちょうどの金額を支払って買おうとしています。\n",
        "\n",
        "問題の制約下で条件を満たす支払い方は必ず存在することが証明できます。\n",
        "\n",
        "最小で何枚の硬貨を使えば支払うことができますか？\n",
        "\n",
        "**制約**\n",
        "・1≤P≤10^7\n",
        "・P は整数である。\n",
        "\n",
        "**入力** P\n",
        "\n",
        "**出力** 必要となる硬貨の最小枚数を出力せよ。"
      ],
      "metadata": {
        "id": "3pH2q6i8CXuq"
      }
    },
    {
      "cell_type": "code",
      "source": [
        "from math import factorial\n",
        "\n",
        "P = int(input())\n",
        "\n",
        "answer = 0\n",
        "\n",
        "for i in range(10, 0, -1):\n",
        "  while factorial(i) <= P:\n",
        "    answer += 1\n",
        "    P -= factorial(i)\n",
        "\n",
        "print(answer)"
      ],
      "metadata": {
        "colab": {
          "base_uri": "https://localhost:8080/"
        },
        "id": "qGReo0CJBOrb",
        "outputId": "2b8dc436-be57-40cb-ecce-c565b90b8681"
      },
      "execution_count": null,
      "outputs": [
        {
          "output_type": "stream",
          "name": "stdout",
          "text": [
            "9\n",
            "3\n"
          ]
        }
      ]
    },
    {
      "cell_type": "markdown",
      "source": [
        "**ABC 093 B問題**\n",
        "\n",
        "以下を満たす整数をすべて昇順に出力してください。\n",
        "\n",
        "A 以上\n",
        "B 以下の整数の中で、小さい方から\n",
        "K 番目以内であるか、大きい方から\n",
        "K 番目以内である\n",
        "\n",
        "**制約**\n",
        "・1≤A≤B≤10^9\n",
        "・1≤K≤100\n",
        "・入力はすべて整数である\n",
        "\n",
        "**入力** A B K\n",
        "\n",
        "**出力** 上の条件を満たす整数をすべて昇順に出力せよ。"
      ],
      "metadata": {
        "id": "d9ov7ZjbWaJu"
      }
    },
    {
      "cell_type": "code",
      "source": [
        "A, B, K = map(int, input().split())\n",
        "\n",
        "list = []\n",
        "\n",
        "for i in range(A, A + K):\n",
        "  list.append(i)\n",
        "\n",
        "for i in range(B - K + 1, B + 1):\n",
        "  if list.count(i) == 0:\n",
        "    list.append(i)\n",
        "\n",
        "for i in list:\n",
        "  print(i)"
      ],
      "metadata": {
        "colab": {
          "base_uri": "https://localhost:8080/"
        },
        "id": "g0u_gZk_FmUm",
        "outputId": "2834d09a-add0-4257-9b89-0878abfbbf43"
      },
      "execution_count": null,
      "outputs": [
        {
          "output_type": "stream",
          "name": "stdout",
          "text": [
            "3 8 2\n",
            "3\n",
            "4\n",
            "7\n",
            "8\n"
          ]
        }
      ]
    },
    {
      "cell_type": "markdown",
      "source": [
        "**ABC 158 C問題**\n",
        "\n",
        "消費税率が\n",
        "8 %のとき\n",
        "A 円、\n",
        "10 ％のとき\n",
        "B 円の消費税が課されるような商品の税抜き価格を求めてください。\n",
        "\n",
        "ただし、税抜き価格は正の整数でなければならないものとし、消費税の計算において小数点以下は切り捨てて計算するものとします。\n",
        "\n",
        "条件を満たす税抜き価格が複数存在する場合は最も小さい金額を出力してください。また、条件を満たす税抜き価格が存在しない場合は -1 と出力してください。\n",
        "\n",
        "**制約**\n",
        "・1≤A≤B≤100\n",
        "・A,B は整数である\n",
        "\n",
        "**入力** A B\n",
        "\n",
        "**出力** 条件を満たす税抜き価格が存在する場合は最小の金額を表す整数を、存在しない場合は -1 を出力せよ。"
      ],
      "metadata": {
        "id": "gDHsRU2L0HXL"
      }
    },
    {
      "cell_type": "code",
      "source": [
        "A, B = map(int, input().split())\n",
        "\n",
        "result = -1\n",
        "i = 1\n",
        "\n",
        "while result == -1:\n",
        "  if i * 8 // 100 == A and i * 10 // 100 == B:\n",
        "    result = i\n",
        "  elif i >= 10001:\n",
        "    break\n",
        "  i += 1\n",
        "\n",
        "i = i - 1\n",
        "\n",
        "print(result)"
      ],
      "metadata": {
        "colab": {
          "base_uri": "https://localhost:8080/"
        },
        "id": "9ZZZuFaJXgq4",
        "outputId": "d6088f27-e014-404c-ac5f-35d750e85158"
      },
      "execution_count": 22,
      "outputs": [
        {
          "output_type": "stream",
          "name": "stdout",
          "text": [
            "2 2\n",
            "25\n"
          ]
        }
      ]
    },
    {
      "cell_type": "markdown",
      "source": [
        "**ABC 068 B問題**\n",
        "\n",
        "高橋君は\n",
        "2 で割れる数が好きです。\n",
        "\n",
        "正整数\n",
        "N が与えられるので、\n",
        "1 以上\n",
        "N 以下の整数のうち、最も\n",
        "2 で割れる回数が多いものを求めてください。答えは必ず\n",
        "1 つに定まります。\n",
        "\n",
        "なお、\n",
        "2 で割っていき、何回あまりが出ずに割れるかを、\n",
        "2 で割れる回数と呼ぶことにします。\n",
        "\n",
        "例えば\n",
        "\n",
        "6 ならば、6 -> 3で、1 回 2 で割れます。8 ならば、\n",
        "8 ->\n",
        "4 ->\n",
        "2 ->\n",
        "1で、\n",
        "3 回\n",
        "2 で割れます。\n",
        "3 ならば、\n",
        "0 回\n",
        "2 で割れます。\n",
        "\n",
        "**制約**\n",
        "1≦N≦100\n",
        "\n",
        "**入力** N\n",
        "\n",
        "**出力** 問題の答えを出力する。"
      ],
      "metadata": {
        "id": "y5FxUSePkmZG"
      }
    },
    {
      "cell_type": "code",
      "source": [
        "N = int(input())\n",
        "\n",
        "for i in range(0, 8):\n",
        "  if 2 ** i <= N < 2 ** (i + 1):\n",
        "    print(2 ** i)"
      ],
      "metadata": {
        "colab": {
          "base_uri": "https://localhost:8080/"
        },
        "id": "V2c8_Y62lJHj",
        "outputId": "be1b490e-cd2b-48ed-9c25-951d0cbc929d"
      },
      "execution_count": 10,
      "outputs": [
        {
          "output_type": "stream",
          "name": "stdout",
          "text": [
            "7\n",
            "4\n"
          ]
        }
      ]
    },
    {
      "cell_type": "markdown",
      "source": [
        "**ABC 090 B問題**\n",
        "\n",
        "A 以上\n",
        "B 以下の整数のうち、回文数となるものの個数を求めてください。 ただし、回文数とは、先頭に\n",
        "0 をつけない\n",
        "10 進表記を文字列として見たとき、前から読んでも後ろから読んでも同じ文字列となるような正の整数のことを指します。\n",
        "\n",
        "**制約** ・10000≤A≤B≤99999\n",
        "・入力はすべて整数である\n",
        "\n",
        "**入力** A B\n",
        "\n",
        "**出力** A 以上\n",
        "B 以下の整数のうち、回文数となるものの個数を出力せよ。\n",
        "\n"
      ],
      "metadata": {
        "id": "dSO-KheQntOU"
      }
    },
    {
      "cell_type": "code",
      "source": [
        "A, B = map(int, input().split())\n",
        "\n",
        "count = 0\n",
        "\n",
        "for i in range(A, B + 1):\n",
        "  if i // 10000 == i % 10 and i // 1000 % 10 == i // 10 % 10:\n",
        "    count += 1\n",
        "\n",
        "print(count)"
      ],
      "metadata": {
        "colab": {
          "base_uri": "https://localhost:8080/"
        },
        "id": "bEtmnFUImW5L",
        "outputId": "6ecf23d2-e97c-4208-def0-466907f5389c"
      },
      "execution_count": 13,
      "outputs": [
        {
          "output_type": "stream",
          "name": "stdout",
          "text": [
            "31415 92653\n",
            "612\n"
          ]
        }
      ]
    },
    {
      "cell_type": "markdown",
      "source": [
        "**ABC 220 B問題**\n",
        "\n",
        "整数\n",
        "A,B が\n",
        "K 進法表記で与えられます。\n",
        "A×B を\n",
        "10 進法表記で出力してください。\n",
        "\n",
        "**制約** ・2≤K≤10\n",
        "・1≤A,B≤10^5\n",
        "・A,B は\n",
        "K 進法表記で与えられる\n",
        "\n",
        "**入力**\n",
        "\n",
        "K\n",
        "\n",
        "A B\n",
        "\n",
        "**出力**\n",
        "答えを出力せよ。\n",
        "\n"
      ],
      "metadata": {
        "id": "pUipyiagWUK8"
      }
    },
    {
      "cell_type": "code",
      "source": [
        "K = int(input())\n",
        "A, B = map(int, input().split())\n",
        "\n",
        "a = str(A)\n",
        "b = str(B)\n",
        "\n",
        "A_10 = 0\n",
        "B_10 = 0\n",
        "\n",
        "for i in range(len(a)):\n",
        "  A_10 += (K ** i) * int(a[-(i+1)])\n",
        "\n",
        "for i in range(len(b)):\n",
        "  B_10 += (K ** i) * int(b[-(i+1)])\n",
        "\n",
        "result = A_10 * B_10\n",
        "\n",
        "print(result)\n"
      ],
      "metadata": {
        "colab": {
          "base_uri": "https://localhost:8080/"
        },
        "id": "V1Hf_JrlomJv",
        "outputId": "a4e2c1f1-c149-4a6a-c43c-459b0bb8d4a2"
      },
      "execution_count": 9,
      "outputs": [
        {
          "output_type": "stream",
          "name": "stdout",
          "text": [
            "7\n",
            "123 456\n",
            "15642\n"
          ]
        }
      ]
    },
    {
      "cell_type": "markdown",
      "source": [
        "**競プロ典型90問 067**\n",
        "\n",
        "黒板に\n",
        "8 進法の整数\n",
        "N が書かれています。あなたは以下の操作を\n",
        "K 回行います。\n",
        "\n",
        "黒板の整数を\n",
        "9 進法に直し、ここに現れる数字「\n",
        "8 」を「\n",
        "5 」に書き直す（書き直した後の数は\n",
        "8 進数とみなされる）\n",
        "操作を\n",
        "K 回行った後にできる数を\n",
        "8 進法で出力してください。\n",
        "\n",
        "**制約**\n",
        "・0≤N<8^20\n",
        "・1≤K≤100\n",
        "・N は\n",
        "8 進法で表される整数\n",
        "・N の先頭に余分な\n",
        "0 を含まない\n",
        "・K は整数\n",
        "\n",
        "**入力**\n",
        "N K\n",
        "\n",
        "**出力**\n",
        "操作を\n",
        "K 回行った後にできる数を\n",
        "8 進法で出力してください。 このとき、答えとなる整数の先頭に余分な\n",
        "0 を付けないでください。"
      ],
      "metadata": {
        "id": "qv_iykFxbt1g"
      }
    },
    {
      "cell_type": "code",
      "source": [
        "N, K = map(int, input().split())\n",
        "\n",
        "count = 0\n",
        "\n",
        "n_8 = str(N)\n",
        "\n",
        "while count < K:\n",
        "  n_9 = \"\"\n",
        "  N_10 = 0\n",
        "  for i in range(len(n_8)):\n",
        "    N_10 += (8 ** i) * int(n_8[-(i+1)])\n",
        "  if N_10 == 0:\n",
        "    n_9 = \"0\"\n",
        "  else:\n",
        "    while N_10 > 0:\n",
        "      N_9 = N_10 % 9\n",
        "      n_9 += str(N_9)\n",
        "      N_10 //= 9\n",
        "  n_9 = n_9[::-1]\n",
        "  n_8 = n_9.replace(\"8\", \"5\")\n",
        "  count += 1\n",
        "\n",
        "N_8 = int(n_8)\n",
        "\n",
        "print(N_8)"
      ],
      "metadata": {
        "colab": {
          "base_uri": "https://localhost:8080/"
        },
        "id": "lKyA_hnDYzUs",
        "outputId": "c1d1b4c6-c8fe-4b89-ddc6-ceef04f95ebf"
      },
      "execution_count": 15,
      "outputs": [
        {
          "output_type": "stream",
          "name": "stdout",
          "text": [
            "21 1\n",
            "15\n"
          ]
        }
      ]
    },
    {
      "cell_type": "code",
      "source": [
        "N, X = map(int, input().split())\n",
        "L = list(map(int, input().split()))\n",
        "\n",
        "count = 1\n",
        "place = 0\n",
        "\n",
        "for i in range(N):\n",
        "  place += L[i]\n",
        "  if place <= X:\n",
        "    count += 1\n",
        "\n",
        "print(count)"
      ],
      "metadata": {
        "colab": {
          "base_uri": "https://localhost:8080/"
        },
        "id": "UhI38qE8PUx8",
        "outputId": "e8b0c3fc-2a97-4175-f9cd-6a49df445082"
      },
      "execution_count": 9,
      "outputs": [
        {
          "output_type": "stream",
          "name": "stdout",
          "text": [
            "4 9\n",
            "3 3 3 3\n",
            "4\n"
          ]
        }
      ]
    },
    {
      "cell_type": "code",
      "source": [],
      "metadata": {
        "id": "LVRI8RUIZ9bD"
      },
      "execution_count": null,
      "outputs": []
    }
  ]
}