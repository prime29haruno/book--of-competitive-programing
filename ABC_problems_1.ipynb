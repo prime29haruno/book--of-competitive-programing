{
  "nbformat": 4,
  "nbformat_minor": 0,
  "metadata": {
    "colab": {
      "provenance": [],
      "authorship_tag": "ABX9TyOEjGmDyfpp8SWp7xUqYktk",
      "include_colab_link": true
    },
    "kernelspec": {
      "name": "python3",
      "display_name": "Python 3"
    },
    "language_info": {
      "name": "python"
    }
  },
  "cells": [
    {
      "cell_type": "markdown",
      "metadata": {
        "id": "view-in-github",
        "colab_type": "text"
      },
      "source": [
        "<a href=\"https://colab.research.google.com/github/prime29haruno/book--of-competitive-programing/blob/main/ABC_problems_1.ipynb\" target=\"_parent\"><img src=\"https://colab.research.google.com/assets/colab-badge.svg\" alt=\"Open In Colab\"/></a>"
      ]
    },
    {
      "cell_type": "markdown",
      "source": [
        "**ABC 137 A問題**\n",
        "\n",
        "整数 A, B があります。\n",
        "A+B, A−B, A×B の中で最大の数を出力してください。\n",
        "\n",
        "**制約**\n",
        "・入力は全て整数である。\n",
        "・−100≤A, B≤100\n",
        "\n",
        "**入力**\n",
        "A B"
      ],
      "metadata": {
        "id": "Xoo-ZONaMfIg"
      }
    },
    {
      "cell_type": "code",
      "execution_count": 3,
      "metadata": {
        "colab": {
          "base_uri": "https://localhost:8080/"
        },
        "id": "HOoNoAnCMcWE",
        "outputId": "db935894-e548-47fd-a5e2-d8e0ccef84a9"
      },
      "outputs": [
        {
          "output_type": "stream",
          "name": "stdout",
          "text": [
            "1 -33\n",
            "34\n"
          ]
        }
      ],
      "source": [
        "A, B = map(int, input().split())\n",
        "\n",
        "C = A + B\n",
        "D = A - B\n",
        "E = A * B\n",
        "\n",
        "max = C\n",
        "\n",
        "if D > max:\n",
        "  max = D\n",
        "if E > max:\n",
        "  max = E\n",
        "\n",
        "print(max)"
      ]
    },
    {
      "cell_type": "markdown",
      "source": [
        "**ABC 127 A問題**\n",
        "\n",
        "A 歳の高橋君が観覧車に乗ろうとしています。\n",
        "\n",
        "この観覧車は、\n",
        "13 歳以上が乗るには\n",
        "B 円 (\n",
        "B は偶数) かかりますが、\n",
        "6 歳以上\n",
        "12 歳以下の人はその半額で乗ることができ、 さらに\n",
        "5 歳以下の人は無料で乗ることができます。\n",
        "\n",
        "高橋君が観覧車に乗るには何円かかるかを求めてください。\n",
        "\n",
        "**制約**\n",
        "・0≤A≤100\n",
        "・2≤B≤1000\n",
        "・B は偶数\n",
        "\n",
        "**入力** A B\n"
      ],
      "metadata": {
        "id": "HERccu3DOaxZ"
      }
    },
    {
      "cell_type": "code",
      "source": [
        "A, B = map(int, input().split())\n",
        "\n",
        "if A >= 13:\n",
        "  price = B\n",
        "elif 6 <= A <= 12:\n",
        "  price = B // 2\n",
        "else:\n",
        "  price = 0\n",
        "\n",
        "print(price)"
      ],
      "metadata": {
        "colab": {
          "base_uri": "https://localhost:8080/"
        },
        "id": "LZSVEsFaNkoq",
        "outputId": "1520af15-47be-4340-c886-a3bb46b1b9a9"
      },
      "execution_count": 8,
      "outputs": [
        {
          "output_type": "stream",
          "name": "stdout",
          "text": [
            "12 100\n",
            "50\n"
          ]
        }
      ]
    },
    {
      "cell_type": "markdown",
      "source": [
        "**ABC 118 A問題**\n",
        "\n",
        "正整数\n",
        "A,B が与えられます。\n",
        "\n",
        "A が\n",
        "B の約数なら\n",
        "A+B を、そうでなければ\n",
        "B−A を出力してください。\n",
        "\n",
        "**制約**\n",
        "・入力は全て整数である。\n",
        "・1≤A≤B≤20\n",
        "\n",
        "**入力** A B"
      ],
      "metadata": {
        "id": "G5zwBSc4Q07n"
      }
    },
    {
      "cell_type": "code",
      "source": [
        "A, B = map(int, input().split())\n",
        "\n",
        "if B % A == 0:\n",
        "  result = A + B\n",
        "else:\n",
        "  result = B - A\n",
        "\n",
        "print(result)"
      ],
      "metadata": {
        "colab": {
          "base_uri": "https://localhost:8080/"
        },
        "id": "AeUd3vRQPdAB",
        "outputId": "c7c633bb-6701-44ea-9390-6305030c92ae"
      },
      "execution_count": 11,
      "outputs": [
        {
          "output_type": "stream",
          "name": "stdout",
          "text": [
            "1 1\n",
            "2\n"
          ]
        }
      ]
    },
    {
      "cell_type": "markdown",
      "source": [
        "**ABC 088 A問題**\n",
        "\n",
        "E869120 は\n",
        "1 円硬貨を\n",
        "A 枚と\n",
        "500 円硬貨を無限枚持っています.\n",
        "これらの硬貨だけを使うことによって, ちょうど\n",
        "N 円を支払うことができるかを判定しなさい.\n",
        "\n",
        "**制約**\n",
        "・N は\n",
        "1 以上\n",
        "10000 以下の整数\n",
        "・A は\n",
        "0 以上\n",
        "1000 以下の整数\n",
        "\n",
        "**入力**\n",
        "\n",
        "N                                                                               \n",
        "A\n",
        "\n",
        "**出力**\n",
        "E869120 の持っている\n",
        "1 円硬貨と\n",
        "500 円硬貨だけで, ちょうど\n",
        "N 円を支払うことができるならば Yes, そうでないならば No を出力しなさい."
      ],
      "metadata": {
        "id": "JOHB7rArSSBl"
      }
    },
    {
      "cell_type": "code",
      "source": [
        "N = int(input())\n",
        "A = int(input())\n",
        "\n",
        "B = N % 500\n",
        "\n",
        "if B <= A:\n",
        "  result = \"Yes\"\n",
        "else:\n",
        "  result = \"No\"\n",
        "\n",
        "print(result)"
      ],
      "metadata": {
        "colab": {
          "base_uri": "https://localhost:8080/"
        },
        "id": "m7FBKeSGRuJK",
        "outputId": "dc5ecaad-d124-4115-d526-5dae218d2edb"
      },
      "execution_count": 16,
      "outputs": [
        {
          "output_type": "stream",
          "name": "stdout",
          "text": [
            "37\n",
            "514\n",
            "Yes\n"
          ]
        }
      ]
    },
    {
      "cell_type": "markdown",
      "source": [],
      "metadata": {
        "id": "_USl57pzy8Sx"
      }
    },
    {
      "cell_type": "markdown",
      "source": [
        "**ABC 087 A問題**\n",
        "\n",
        "あなたは、\n",
        "X 円を持ってケーキとドーナツを買いに出かけました。\n",
        "\n",
        "あなたはまずケーキ屋で\n",
        "1 個\n",
        "A 円のケーキを\n",
        "1 個買いました。 次に、ドーナツ屋で\n",
        "1 個\n",
        "B 円のドーナツをできるだけたくさん買いました。\n",
        "\n",
        "これらの買い物のあと手元に残っている金額は何円ですか。\n",
        "\n",
        "**制約**\n",
        "・1≤A,B≤1,000\n",
        "・A+B≤X≤10,000\n",
        "・X,A,B は整数である\n",
        "\n",
        "**入力**\n",
        "\n",
        "X\n",
        "\n",
        "A\n",
        "\n",
        "B\n",
        "\n",
        "**出力**\n",
        "買い物のあとに残った金額を出力せよ。"
      ],
      "metadata": {
        "id": "_KKpfdcdy8Vt"
      }
    },
    {
      "cell_type": "code",
      "source": [
        "X = int(input())\n",
        "A = int(input())\n",
        "B = int(input())\n",
        "\n",
        "result = (X - A) % B\n",
        "\n",
        "print(result)"
      ],
      "metadata": {
        "colab": {
          "base_uri": "https://localhost:8080/"
        },
        "id": "xXAiRTZ6TwYU",
        "outputId": "d0d5c726-8505-4c34-d91f-ddc3dba8083f"
      },
      "execution_count": 6,
      "outputs": [
        {
          "output_type": "stream",
          "name": "stdout",
          "text": [
            "7477\n",
            "549\n",
            "593\n",
            "405\n"
          ]
        }
      ]
    },
    {
      "cell_type": "markdown",
      "source": [
        "**ABC 064 A問題**\n",
        "\n",
        "AtCoDeer君は、赤、緑、青色のカードを持っています。\n",
        "それぞれのカードには\n",
        "1 以上\n",
        "9 以下の整数が書かれており、赤色のカードには\n",
        "r、緑色のカードには\n",
        "g、青色のカードには\n",
        "b が書かれています。\n",
        "3 つのカードを左から順に赤、緑、青色の順に並べ、左から整数を読んだときにこれが\n",
        "4 の倍数であるか判定しなさい。\n",
        "\n",
        "**制約**\n",
        "1≤r,g,b≤9\n",
        "\n",
        "**入力** r g b\n",
        "\n",
        "**出力**\n",
        "AtCoDeer君が作った\n",
        "3 桁の整数が\n",
        "4 の倍数ならば YES、そうでないならば NO を出力しなさい。"
      ],
      "metadata": {
        "id": "xld6KQlk0Uxf"
      }
    },
    {
      "cell_type": "code",
      "source": [
        "r, g, b = map(int, input().split())\n",
        "\n",
        "number = 100 * r + 10 * g + b\n",
        "\n",
        "if number % 4 == 0:\n",
        "  print(\"YES\")\n",
        "else:\n",
        "  print(\"NO\")"
      ],
      "metadata": {
        "colab": {
          "base_uri": "https://localhost:8080/"
        },
        "id": "VQRHBoMVzpZK",
        "outputId": "97af6817-57ad-4e54-db20-2d677b8b525f"
      },
      "execution_count": 9,
      "outputs": [
        {
          "output_type": "stream",
          "name": "stdout",
          "text": [
            "2 3 4\n",
            "NO\n"
          ]
        }
      ]
    },
    {
      "cell_type": "markdown",
      "source": [
        "**ABC 128 A問題**\n",
        "\n",
        "林檎が\n",
        "A 個、林檎の欠片が\n",
        "P 個あります。\n",
        "\n",
        "林檎\n",
        "1 個は、砕くことで林檎の欠片\n",
        "3 個になります。また、林檎の欠片\n",
        "2 個を鍋で煮込むことで、アップルパイが\n",
        "1 個作れます。\n",
        "\n",
        "今ある材料で作れるアップルパイの最大数を求めてください。\n",
        "\n",
        "**制約**\n",
        "・入力は全て整数である。\n",
        "・0≤A,P≤100\n",
        "\n",
        "**入力** A P\n",
        "\n",
        "**出力**\n",
        "今ある材料で作れるアップルパイの最大数を出力せよ。"
      ],
      "metadata": {
        "id": "YbLAcBwb1Z6o"
      }
    },
    {
      "cell_type": "code",
      "source": [
        "A, P = map(int, input().split())\n",
        "\n",
        "number = A * 3 + P\n",
        "\n",
        "result = number // 2\n",
        "\n",
        "print(result)"
      ],
      "metadata": {
        "colab": {
          "base_uri": "https://localhost:8080/"
        },
        "id": "0LdJq6vl09PY",
        "outputId": "b9481127-bfa7-4da8-90b8-7b48959aea26"
      },
      "execution_count": 14,
      "outputs": [
        {
          "output_type": "stream",
          "name": "stdout",
          "text": [
            "32 21\n",
            "58\n"
          ]
        }
      ]
    },
    {
      "cell_type": "markdown",
      "source": [
        "**ABC 125 A問題**\n",
        "\n",
        "ビスケット生産装置を起動すると、起動してから\n",
        "A 秒後、\n",
        "2A 秒後、\n",
        "3A 秒後、\n",
        "... (\n",
        "A の倍数秒後) に\n",
        "B 枚ずつビスケットを生産します。\n",
        "\n",
        "ビスケット生産装置を起動してから\n",
        "T+0.5 秒後までに生産されるビスケットの合計枚数を求めてください。\n",
        "\n",
        "**制約** ・入力は全て整数である。\n",
        "・1≤A,B,T≤20\n",
        "\n",
        "**入力** A B T\n",
        "\n",
        "**出力** ビスケット生産装置を起動してから\n",
        "T+0.5 秒後までに生産されるビスケットの合計枚数を出力せよ。"
      ],
      "metadata": {
        "id": "s7yES1YrzNhU"
      }
    },
    {
      "cell_type": "code",
      "source": [
        "A, B, T = map(int, input().split())\n",
        "\n",
        "result = (T // A) * B\n",
        "\n",
        "print(result)"
      ],
      "metadata": {
        "colab": {
          "base_uri": "https://localhost:8080/"
        },
        "id": "2CuwX3JU1_wE",
        "outputId": "84598a46-4112-49df-90ae-8c3df8561add"
      },
      "execution_count": 4,
      "outputs": [
        {
          "output_type": "stream",
          "name": "stdout",
          "text": [
            "3 5 7\n",
            "10\n"
          ]
        }
      ]
    },
    {
      "cell_type": "markdown",
      "source": [
        "**ABC 173 A問題**\n",
        "\n",
        "お店で\n",
        "N 円の商品を買います。\n",
        "\n",
        "1000 円札のみを使って支払いを行う時、お釣りはいくらになりますか？\n",
        "\n",
        "ただし、必要最小限の枚数の\n",
        "1000 円札で支払いを行うものとします。\n",
        "\n",
        "**制約**\n",
        "1≤N≤10000\n",
        "N は整数\n",
        "\n",
        "**入力** N\n",
        "\n",
        "**出力** お釣りの金額を整数で出力せよ。"
      ],
      "metadata": {
        "id": "xiajTfoQ2Wxw"
      }
    },
    {
      "cell_type": "code",
      "source": [
        "N = int(input())\n",
        "\n",
        "if N % 1000 == 0:\n",
        "  change = 0\n",
        "else:\n",
        "  change = 1000 - (N % 1000)\n",
        "\n",
        "print(change)"
      ],
      "metadata": {
        "colab": {
          "base_uri": "https://localhost:8080/"
        },
        "id": "YSFHwT6c1MSn",
        "outputId": "a94a3b5e-51d5-4c7f-c22a-6608c9c3a9b6"
      },
      "execution_count": 8,
      "outputs": [
        {
          "output_type": "stream",
          "name": "stdout",
          "text": [
            "3000\n",
            "0\n"
          ]
        }
      ]
    },
    {
      "cell_type": "markdown",
      "source": [
        "**ABC 157 A問題**\n",
        "\n",
        "高橋君は、全\n",
        "N ページから成る書類を両面印刷します。両面印刷では、\n",
        "1 枚の紙に\n",
        "2 ページ分のデータを印刷することが出来ます。\n",
        "\n",
        "最小で何枚の紙が必要か求めてください。\n",
        "\n",
        "**制約**\n",
        "・N は整数\n",
        "・1≤N≤100\n",
        "\n",
        "**入力** N\n",
        "\n",
        "**出力**\n",
        "答えを出力せよ。"
      ],
      "metadata": {
        "id": "-tgWX3M530K2"
      }
    },
    {
      "cell_type": "code",
      "source": [
        "N = int(input())\n",
        "\n",
        "if N % 2 == 0:\n",
        "  result = N // 2\n",
        "else:\n",
        "  result = (N // 2) + 1\n",
        "\n",
        "print(result)"
      ],
      "metadata": {
        "colab": {
          "base_uri": "https://localhost:8080/"
        },
        "id": "Qt86V1Ud3DBI",
        "outputId": "5dbc0855-f094-40cc-f67f-719d281bc87f"
      },
      "execution_count": 11,
      "outputs": [
        {
          "output_type": "stream",
          "name": "stdout",
          "text": [
            "100\n",
            "50\n"
          ]
        }
      ]
    },
    {
      "cell_type": "markdown",
      "source": [
        "**ABC 176 A問題**\n",
        "\n",
        "高橋君はたこ焼きが好きです。\n",
        "\n",
        "たこ焼き器を使うと、\n",
        "1 度に最大で\n",
        "X 個のたこ焼きを作ることができます。これにかかる時間は作る個数によらず\n",
        "T 分です。\n",
        "\n",
        "N 個のたこ焼きを作るためには何分必要ですか？\n",
        "\n",
        "**制約**\n",
        "1≤N,X,T≤1000\n",
        "入力は全て整数\n",
        "\n",
        "**入力**\n",
        "N X T\n",
        "\n",
        "**出力**\n",
        "N 個のたこ焼きを作るために必要な時間の最小値を整数で出力せよ。"
      ],
      "metadata": {
        "id": "nKtTRrPIMP7L"
      }
    },
    {
      "cell_type": "code",
      "source": [
        "N, X, T = map(int, input().split())\n",
        "\n",
        "if N % X == 0:\n",
        "  result = (N // X) * T\n",
        "else:\n",
        "  result = ((N // X) + 1) * T\n",
        "\n",
        "print(result)"
      ],
      "metadata": {
        "colab": {
          "base_uri": "https://localhost:8080/"
        },
        "id": "uG4VfteYMPMJ",
        "outputId": "d6899247-06aa-4493-af9f-5da6999bd9da"
      },
      "execution_count": 2,
      "outputs": [
        {
          "output_type": "stream",
          "name": "stdout",
          "text": [
            "1000 1 1000\n",
            "1000000\n"
          ]
        }
      ]
    },
    {
      "cell_type": "markdown",
      "source": [
        "**競プロ典型90問 033**\n",
        "\n",
        "E869120 くんは、冬に公開するイルミネーションを作成することを計画しています。\n",
        "E869120 くんが計画しているイルミネーションは、縦\n",
        "H\n",
        "× 横\n",
        "W の\n",
        "HW 個のLEDで構成されます。\n",
        "イルミネーションの各 LED は、点灯・消灯の状態を任意に切り替えることができます。\n",
        "\n",
        "このイルミネーションは、以下の条件を満たすとき 不適切である といいます。\n",
        "\n",
        "イルミネーション全体に完全に含まれる 縦\n",
        "2\n",
        "× 横\n",
        "2 の、\n",
        "4 つの LED を含む領域であって、点灯している LED が領域内に\n",
        "2 つ以上あるものが存在する。\n",
        "\n",
        "適切な（不適切な状態ではない）イルミネーションの点灯パターンのうち、点灯している LED の個数としてありうる最大値を求めてください。\n",
        "\n",
        "**制約**\n",
        "1≤H,W≤100\n",
        "入力はすべて整数\n",
        "\n",
        "**入力**\n",
        "H W\n",
        "\n",
        "**出力**\n",
        "答えを出力してください。"
      ],
      "metadata": {
        "id": "YIyxKM8hNd4J"
      }
    },
    {
      "cell_type": "code",
      "source": [
        "H, W = map(int, input().split())\n",
        "\n",
        "if H == 1 or W == 1: #if文でorを使ってOK!\n",
        "  result = H * W\n",
        "else:\n",
        "  result = ((H + 1) // 2) * ((W + 1) // 2)\n",
        "\n",
        "print(result)\n",
        "\n",
        "#最大の場合のみ考えればよい"
      ],
      "metadata": {
        "id": "Q95iARatWZs0"
      },
      "execution_count": null,
      "outputs": []
    }
  ]
}