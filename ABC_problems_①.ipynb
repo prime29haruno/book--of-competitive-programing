{
  "nbformat": 4,
  "nbformat_minor": 0,
  "metadata": {
    "colab": {
      "provenance": [],
      "authorship_tag": "ABX9TyPq7V5Qdg0LVU7DVSJhMyqu",
      "include_colab_link": true
    },
    "kernelspec": {
      "name": "python3",
      "display_name": "Python 3"
    },
    "language_info": {
      "name": "python"
    }
  },
  "cells": [
    {
      "cell_type": "markdown",
      "metadata": {
        "id": "view-in-github",
        "colab_type": "text"
      },
      "source": [
        "<a href=\"https://colab.research.google.com/github/prime29haruno/book--of-competitive-programing/blob/main/ABC_problems_%E2%91%A0.ipynb\" target=\"_parent\"><img src=\"https://colab.research.google.com/assets/colab-badge.svg\" alt=\"Open In Colab\"/></a>"
      ]
    },
    {
      "cell_type": "markdown",
      "source": [
        "**ABC 137 A問題**\n",
        "\n",
        "整数 A, B があります。\n",
        "A+B, A−B, A×B の中で最大の数を出力してください。\n",
        "\n",
        "**制約**\n",
        "・入力は全て整数である。\n",
        "・−100≤A, B≤100\n",
        "\n",
        "**入力**\n",
        "A B"
      ],
      "metadata": {
        "id": "Xoo-ZONaMfIg"
      }
    },
    {
      "cell_type": "code",
      "execution_count": 3,
      "metadata": {
        "colab": {
          "base_uri": "https://localhost:8080/"
        },
        "id": "HOoNoAnCMcWE",
        "outputId": "db935894-e548-47fd-a5e2-d8e0ccef84a9"
      },
      "outputs": [
        {
          "output_type": "stream",
          "name": "stdout",
          "text": [
            "1 -33\n",
            "34\n"
          ]
        }
      ],
      "source": [
        "A, B = map(int, input().split())\n",
        "\n",
        "C = A + B\n",
        "D = A - B\n",
        "E = A * B\n",
        "\n",
        "max = C\n",
        "\n",
        "if D > max:\n",
        "  max = D\n",
        "if E > max:\n",
        "  max = E\n",
        "\n",
        "print(max)"
      ]
    },
    {
      "cell_type": "markdown",
      "source": [
        "**ABC 127 A問題**\n",
        "\n",
        "A 歳の高橋君が観覧車に乗ろうとしています。\n",
        "\n",
        "この観覧車は、\n",
        "13 歳以上が乗るには\n",
        "B 円 (\n",
        "B は偶数) かかりますが、\n",
        "6 歳以上\n",
        "12 歳以下の人はその半額で乗ることができ、 さらに\n",
        "5 歳以下の人は無料で乗ることができます。\n",
        "\n",
        "高橋君が観覧車に乗るには何円かかるかを求めてください。\n",
        "\n",
        "**制約**\n",
        "・0≤A≤100\n",
        "・2≤B≤1000\n",
        "・B は偶数\n",
        "\n",
        "**入力** A B\n"
      ],
      "metadata": {
        "id": "HERccu3DOaxZ"
      }
    },
    {
      "cell_type": "code",
      "source": [
        "A, B = map(int, input().split())\n",
        "\n",
        "if A >= 13:\n",
        "  price = B\n",
        "elif 6 <= A <= 12:\n",
        "  price = B // 2\n",
        "else:\n",
        "  price = 0\n",
        "\n",
        "print(price)"
      ],
      "metadata": {
        "colab": {
          "base_uri": "https://localhost:8080/"
        },
        "id": "LZSVEsFaNkoq",
        "outputId": "1520af15-47be-4340-c886-a3bb46b1b9a9"
      },
      "execution_count": 8,
      "outputs": [
        {
          "output_type": "stream",
          "name": "stdout",
          "text": [
            "12 100\n",
            "50\n"
          ]
        }
      ]
    },
    {
      "cell_type": "markdown",
      "source": [
        "**ABC 118 A問題**\n",
        "\n",
        "正整数\n",
        "A,B が与えられます。\n",
        "\n",
        "A が\n",
        "B の約数なら\n",
        "A+B を、そうでなければ\n",
        "B−A を出力してください。\n",
        "\n",
        "**制約**\n",
        "・入力は全て整数である。\n",
        "・1≤A≤B≤20\n",
        "\n",
        "**入力** A B"
      ],
      "metadata": {
        "id": "G5zwBSc4Q07n"
      }
    },
    {
      "cell_type": "code",
      "source": [
        "A, B = map(int, input().split())\n",
        "\n",
        "if B % A == 0:\n",
        "  result = A + B\n",
        "else:\n",
        "  result = B - A\n",
        "\n",
        "print(result)"
      ],
      "metadata": {
        "colab": {
          "base_uri": "https://localhost:8080/"
        },
        "id": "AeUd3vRQPdAB",
        "outputId": "c7c633bb-6701-44ea-9390-6305030c92ae"
      },
      "execution_count": 11,
      "outputs": [
        {
          "output_type": "stream",
          "name": "stdout",
          "text": [
            "1 1\n",
            "2\n"
          ]
        }
      ]
    },
    {
      "cell_type": "markdown",
      "source": [
        "**ABC 088 A問題**\n",
        "\n",
        "E869120 は\n",
        "1 円硬貨を\n",
        "A 枚と\n",
        "500 円硬貨を無限枚持っています.\n",
        "これらの硬貨だけを使うことによって, ちょうど\n",
        "N 円を支払うことができるかを判定しなさい.\n",
        "\n",
        "**制約**\n",
        "・N は\n",
        "1 以上\n",
        "10000 以下の整数\n",
        "・A は\n",
        "0 以上\n",
        "1000 以下の整数\n",
        "\n",
        "**入力**\n",
        "\n",
        "N                                                                               \n",
        "A\n",
        "\n",
        "**出力**\n",
        "E869120 の持っている\n",
        "1 円硬貨と\n",
        "500 円硬貨だけで, ちょうど\n",
        "N 円を支払うことができるならば Yes, そうでないならば No を出力しなさい."
      ],
      "metadata": {
        "id": "JOHB7rArSSBl"
      }
    },
    {
      "cell_type": "code",
      "source": [
        "N = int(input())\n",
        "A = int(input())\n",
        "\n",
        "B = N % 500\n",
        "\n",
        "if B <= A:\n",
        "  result = \"Yes\"\n",
        "else:\n",
        "  result = \"No\"\n",
        "\n",
        "print(result)"
      ],
      "metadata": {
        "colab": {
          "base_uri": "https://localhost:8080/"
        },
        "id": "m7FBKeSGRuJK",
        "outputId": "dc5ecaad-d124-4115-d526-5dae218d2edb"
      },
      "execution_count": 16,
      "outputs": [
        {
          "output_type": "stream",
          "name": "stdout",
          "text": [
            "37\n",
            "514\n",
            "Yes\n"
          ]
        }
      ]
    },
    {
      "cell_type": "code",
      "source": [],
      "metadata": {
        "id": "xXAiRTZ6TwYU"
      },
      "execution_count": null,
      "outputs": []
    }
  ]
}