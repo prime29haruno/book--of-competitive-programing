{
  "nbformat": 4,
  "nbformat_minor": 0,
  "metadata": {
    "colab": {
      "provenance": [],
      "authorship_tag": "ABX9TyPHvR98NhlcLzH0V5jyoL5w",
      "include_colab_link": true
    },
    "kernelspec": {
      "name": "python3",
      "display_name": "Python 3"
    },
    "language_info": {
      "name": "python"
    }
  },
  "cells": [
    {
      "cell_type": "markdown",
      "metadata": {
        "id": "view-in-github",
        "colab_type": "text"
      },
      "source": [
        "<a href=\"https://colab.research.google.com/github/prime29haruno/book--of-competitive-programing/blob/main/%E7%AB%B6%E3%83%97%E3%83%AD%E6%9C%AC%E4%BE%8B%E9%A1%8C.ipynb\" target=\"_parent\"><img src=\"https://colab.research.google.com/assets/colab-badge.svg\" alt=\"Open In Colab\"/></a>"
      ]
    },
    {
      "cell_type": "code",
      "source": [
        "#例題１\n",
        "\n",
        "A, B = map(int, input().split())\n",
        "print(A * B)"
      ],
      "metadata": {
        "colab": {
          "base_uri": "https://localhost:8080/"
        },
        "id": "n_ooOJAwK_ME",
        "outputId": "1a841912-1e8a-4a94-cb28-b25f83f6ec19"
      },
      "execution_count": null,
      "outputs": [
        {
          "output_type": "stream",
          "name": "stdout",
          "text": [
            "2 5\n",
            "10\n"
          ]
        }
      ]
    },
    {
      "cell_type": "code",
      "source": [
        "#例題２\n",
        "\n",
        "a, b = map(int, input().split())\n",
        "c = a * b\n",
        "if c % 2 == 0:\n",
        "  print(\"Even\")\n",
        "else:\n",
        "  print(\"Odd\")"
      ],
      "metadata": {
        "colab": {
          "base_uri": "https://localhost:8080/"
        },
        "id": "7NHXXMlgL5Jb",
        "outputId": "d8dbcbb4-40ee-4778-a4dd-db05ecd95ae6"
      },
      "execution_count": null,
      "outputs": [
        {
          "output_type": "stream",
          "name": "stdout",
          "text": [
            "4 6\n",
            "Even\n"
          ]
        }
      ]
    },
    {
      "cell_type": "code",
      "source": [
        "#例題３\n",
        "\n",
        "H, A = map(int, input().split())\n",
        "if H % A == 0:\n",
        "  print(H // A)\n",
        "else:\n",
        "  print(H // A + 1)"
      ],
      "metadata": {
        "colab": {
          "base_uri": "https://localhost:8080/"
        },
        "id": "x50lvghC8CcW",
        "outputId": "ba6324bd-9ce8-4b2f-d68f-190d4673400f"
      },
      "execution_count": null,
      "outputs": [
        {
          "output_type": "stream",
          "name": "stdout",
          "text": [
            "10 3\n",
            "4\n"
          ]
        }
      ]
    },
    {
      "cell_type": "code",
      "source": [
        "#例題４\n",
        "\n",
        "K = int(input())\n",
        "\n",
        "A, B = map(int, input().split())\n",
        "\n",
        "exist = False\n",
        "\n",
        "for i in range(A, B + 1):\n",
        "  if i % K == 0:\n",
        "    exist = True\n",
        "\n",
        "print(\"OK\" if exist else \"NG\")"
      ],
      "metadata": {
        "colab": {
          "base_uri": "https://localhost:8080/"
        },
        "id": "kqdtdKoNbZfn",
        "outputId": "73189787-8f05-488c-953c-628ad6366d6c"
      },
      "execution_count": null,
      "outputs": [
        {
          "output_type": "stream",
          "name": "stdout",
          "text": [
            "4\n",
            "19 100\n",
            "OK\n"
          ]
        }
      ]
    },
    {
      "cell_type": "code",
      "source": [
        "#例題５\n",
        "\n",
        "def calc_sum_digits(n):\n",
        "  sum_digit = 0\n",
        "  while n > 0:\n",
        "    sum_digit += n % 10\n",
        "    n //= 10\n",
        "  return sum_digit\n",
        "\n",
        "N, A, B = map(int, input().split())\n",
        "\n",
        "result = 0\n",
        "\n",
        "for i in range(1, N + 1):\n",
        "  if A <= calc_sum_digits(i) <= B:\n",
        "    result += i\n",
        "\n",
        "print(result)"
      ],
      "metadata": {
        "id": "z_SrJPV6dmnR",
        "colab": {
          "base_uri": "https://localhost:8080/"
        },
        "outputId": "fbd7082d-11ff-49b4-c3a1-88cc7116fc10"
      },
      "execution_count": null,
      "outputs": [
        {
          "output_type": "stream",
          "name": "stdout",
          "text": [
            "14 2 4\n",
            "45\n"
          ]
        }
      ]
    },
    {
      "cell_type": "code",
      "source": [
        "#例題６\n",
        "\n",
        "N = int(input())\n",
        "A = list(map(int, input().split()))\n",
        "\n",
        "counter = 0\n",
        "\n",
        "while True:\n",
        "  can_do = True\n",
        "  for i in range(N):\n",
        "    if A[i] % 2 == 1:\n",
        "      can_do = False\n",
        "\n",
        "  if not can_do:\n",
        "    break\n",
        "\n",
        "  for i in range(N):\n",
        "    A[i] //= 2\n",
        "\n",
        "  counter += 1\n",
        "\n",
        "print(counter)\n"
      ],
      "metadata": {
        "colab": {
          "base_uri": "https://localhost:8080/"
        },
        "id": "0QwS09AiWGkE",
        "outputId": "c5dc7e8d-2dcf-4dce-a099-24aabe162336"
      },
      "execution_count": null,
      "outputs": [
        {
          "output_type": "stream",
          "name": "stdout",
          "text": [
            "3\n",
            "4 12 40\n",
            "2\n"
          ]
        }
      ]
    },
    {
      "cell_type": "code",
      "source": [
        "#例題７\n",
        "\n",
        "N = int(input())\n",
        "a = list(map(int, input().split()))\n",
        "\n",
        "a.sort(reverse = True)\n",
        "\n",
        "result = 0\n",
        "\n",
        "for i in range(N):\n",
        "  if i % 2 == 0:\n",
        "    result += a[i]\n",
        "  else:\n",
        "    result -= a[i]\n",
        "\n",
        "print(result)"
      ],
      "metadata": {
        "colab": {
          "base_uri": "https://localhost:8080/"
        },
        "id": "glIPPJsWcr3W",
        "outputId": "54fa961c-4ce7-412a-9bc2-7bdb27043655"
      },
      "execution_count": null,
      "outputs": [
        {
          "output_type": "stream",
          "name": "stdout",
          "text": [
            "3\n",
            "2 7 4\n",
            "5\n"
          ]
        }
      ]
    },
    {
      "cell_type": "code",
      "source": [
        "#例題８\n",
        "\n",
        "def isAC(S):\n",
        "  if S[0] != \"A\":\n",
        "    return False\n",
        "  if S[2:-1].count(\"C\") != 1:\n",
        "    return False\n",
        "  if sum(map(str.isupper, S)) != 2:\n",
        "    return False\n",
        "  return True\n",
        "\n",
        "print(\"AC\" if isAC(input()) else \"WA\")"
      ],
      "metadata": {
        "colab": {
          "base_uri": "https://localhost:8080/"
        },
        "id": "RiStpw1wm7M6",
        "outputId": "054f6dfa-6531-4be7-967d-5fe7ddea6548"
      },
      "execution_count": null,
      "outputs": [
        {
          "output_type": "stream",
          "name": "stdout",
          "text": [
            "AtCoder\n",
            "AC\n"
          ]
        }
      ]
    },
    {
      "cell_type": "code",
      "source": [
        "#例題９\n",
        "A = int(input())\n",
        "B = int(input())\n",
        "C = int(input())\n",
        "X = int(input())\n",
        "\n",
        "result = 0\n",
        "\n",
        "for a in range(0, A + 1):\n",
        "  for b in range(0, B + 1):\n",
        "    for c in range(0, C + 1):\n",
        "      if 500 * a + 100 * b + 50 * c == X:\n",
        "        result += 1\n",
        "\n",
        "print(result)"
      ],
      "metadata": {
        "id": "qls4pWB0t3T5",
        "colab": {
          "base_uri": "https://localhost:8080/"
        },
        "outputId": "4a1dea83-ab9e-40ae-e561-fdf3684d4120"
      },
      "execution_count": 1,
      "outputs": [
        {
          "output_type": "stream",
          "name": "stdout",
          "text": [
            "2 \n",
            "2\n",
            "2\n",
            "100\n",
            "2\n"
          ]
        }
      ]
    },
    {
      "cell_type": "code",
      "source": [
        "#例題10\n",
        "DX = [1, 0, -1, 0, 1, -1, -1, 1]\n",
        "DY = [0, 1, 0, -1, 1, 1, -1, -1]\n",
        "\n",
        "H, W = map(int, input().split())\n",
        "S = [input() for i in range(H)]\n",
        "\n",
        "result = [[0 if v == '.' else '#' for v in range row] for row in S]\n",
        "\n",
        "for i in range(H):\n",
        "  for j in range(W):\n",
        "    if S[i][j] != '.':\n",
        "      continue\n",
        "\n",
        "    for dx, dy in zip(DX, DY):\n",
        "      ni, nj = i + dx, j + dy\n",
        "\n",
        "      if ni < 0 or ni >= H or nj < 0 or nj >= W:\n",
        "        continue\n",
        "\n",
        "      if S[ni][nj] == '#':\n",
        "        result[i][j] += 1\n",
        "\n",
        "for row in result:\n",
        "  print(*row, sep='')"
      ],
      "metadata": {
        "colab": {
          "base_uri": "https://localhost:8080/"
        },
        "id": "vIImcDi3mTUj",
        "outputId": "c0c50c28-3ab4-473d-982e-93c89c8b9f8c"
      },
      "execution_count": 5,
      "outputs": [
        {
          "output_type": "stream",
          "name": "stdout",
          "text": [
            "3 6\n",
            "......\n",
            ".#.#..\n",
            "......\n",
            "112110\n",
            "1#2#10\n",
            "112110\n"
          ]
        }
      ]
    },
    {
      "cell_type": "code",
      "source": [],
      "metadata": {
        "id": "oBVSTTt4tZlx"
      },
      "execution_count": null,
      "outputs": []
    }
  ]
}