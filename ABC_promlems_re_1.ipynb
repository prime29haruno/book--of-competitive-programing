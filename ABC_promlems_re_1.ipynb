{
  "nbformat": 4,
  "nbformat_minor": 0,
  "metadata": {
    "colab": {
      "provenance": [],
      "authorship_tag": "ABX9TyMahfYV28VEGcf2315v+3wv",
      "include_colab_link": true
    },
    "kernelspec": {
      "name": "python3",
      "display_name": "Python 3"
    },
    "language_info": {
      "name": "python"
    }
  },
  "cells": [
    {
      "cell_type": "markdown",
      "metadata": {
        "id": "view-in-github",
        "colab_type": "text"
      },
      "source": [
        "<a href=\"https://colab.research.google.com/github/prime29haruno/book--of-competitive-programing/blob/main/ABC_promlems_re_1.ipynb\" target=\"_parent\"><img src=\"https://colab.research.google.com/assets/colab-badge.svg\" alt=\"Open In Colab\"/></a>"
      ]
    },
    {
      "cell_type": "code",
      "execution_count": null,
      "metadata": {
        "id": "sH50VCPAR534"
      },
      "outputs": [],
      "source": [
        "#ABC 127 A問題\n",
        "\n",
        "A, B = map(int, input().split())\n",
        "\n",
        "if A >= 13:\n",
        "  cost = B\n",
        "elif 6 <= A <= 12:\n",
        "  cost = B // 2\n",
        "else:\n",
        "  cost = 0\n",
        "\n",
        "print(cost)"
      ]
    },
    {
      "cell_type": "code",
      "source": [
        "#ABC 125 A問題\n",
        "\n",
        "A, B, T = map(int, input().split())\n",
        "\n",
        "result = (T // A) * B\n",
        "\n",
        "print(result)"
      ],
      "metadata": {
        "id": "Dk6PgAa2SjHC"
      },
      "execution_count": null,
      "outputs": []
    },
    {
      "cell_type": "code",
      "source": [
        "#競プロ典型90問 033\n",
        "\n",
        "H, W = map(int, input().split())\n",
        "\n",
        "if H == 1 or W == 1:\n",
        "  result = H * W\n",
        "else:\n",
        "  result = ((H + 1) // 2) * ((W + 1) // 2)\n",
        "\n",
        "print(result)"
      ],
      "metadata": {
        "colab": {
          "base_uri": "https://localhost:8080/"
        },
        "id": "8OiNKdRYTR4V",
        "outputId": "cc8c3be7-912d-4c58-8eb8-2f3c6ff328f6"
      },
      "execution_count": 3,
      "outputs": [
        {
          "output_type": "stream",
          "name": "stdout",
          "text": [
            "3 6\n",
            "6\n"
          ]
        }
      ]
    },
    {
      "cell_type": "code",
      "source": [
        "#ABC 162 B問題\n",
        "\n",
        "N = int(input())\n",
        "\n",
        "sum = 0\n",
        "\n",
        "for i in range(1, N + 1):\n",
        "  if i % 3 != 0 and i % 5 != 0:\n",
        "    sum += i\n",
        "\n",
        "print(sum)\n"
      ],
      "metadata": {
        "id": "9lcU45-PUQwv"
      },
      "execution_count": null,
      "outputs": []
    },
    {
      "cell_type": "code",
      "source": [
        "#ABC 206 B問題\n",
        "\n",
        "N = int(input())\n",
        "\n",
        "sum = 0\n",
        "i = 1\n",
        "\n",
        "while sum < N:\n",
        "  sum += i\n",
        "  i += 1\n",
        "\n",
        "print(i - 1)"
      ],
      "metadata": {
        "id": "RsqERQTIWPAG"
      },
      "execution_count": null,
      "outputs": []
    },
    {
      "cell_type": "code",
      "source": [
        "#ABC 165 B問題\n",
        "\n",
        "X = int(input())\n",
        "\n",
        "value = 100\n",
        "year = 0\n",
        "\n",
        "while value < X:\n",
        "  value = value * 101 // 100\n",
        "  year += 1\n",
        "\n",
        "print(year)"
      ],
      "metadata": {
        "id": "ylpMy6JwW17U"
      },
      "execution_count": null,
      "outputs": []
    },
    {
      "cell_type": "code",
      "source": [
        "#ABC 200 B問題\n",
        "\n",
        "N, K = map(int, input().split())\n",
        "\n",
        "i = 0\n",
        "\n",
        "while i < K:\n",
        "  if N % 200 == 0:\n",
        "    N = N // 200\n",
        "  else:\n",
        "    N = (N * 1000) + 200\n",
        "  i += 1\n",
        "\n",
        "print(N)"
      ],
      "metadata": {
        "colab": {
          "base_uri": "https://localhost:8080/"
        },
        "id": "nL_OUZdDXk8R",
        "outputId": "51d367b5-c912-40f0-85df-3d0be489be62"
      },
      "execution_count": 5,
      "outputs": [
        {
          "output_type": "stream",
          "name": "stdout",
          "text": [
            "2021 4\n",
            "50531\n"
          ]
        }
      ]
    },
    {
      "cell_type": "code",
      "source": [
        "#ABC 164 B問題\n",
        "\n",
        "A, B, C, D = map(int, input().split())\n",
        "\n",
        "if C % B == 0:\n",
        "  X = C // B\n",
        "else:\n",
        "  X = (C // B) + 1\n",
        "\n",
        "if A % D == 0:\n",
        "  Y = A // D\n",
        "else:\n",
        "  Y = (A // D) + 1\n",
        "\n",
        "if X <= Y:\n",
        "  print(\"Yes\")\n",
        "else:\n",
        "  print(\"No\")"
      ],
      "metadata": {
        "id": "NotkbQxKYh6s"
      },
      "execution_count": null,
      "outputs": []
    },
    {
      "cell_type": "code",
      "source": [
        "#ABC 208 B問題\n",
        "\n",
        "from math import factorial\n",
        "\n",
        "P = int(input())\n",
        "\n",
        "result = 0\n",
        "\n",
        "for i in range(10, 0, -1):\n",
        "  if P >= factorial(i):\n",
        "    result += P // factorial(i)\n",
        "    P = P % factorial(i)\n",
        "\n",
        "print(result)"
      ],
      "metadata": {
        "colab": {
          "base_uri": "https://localhost:8080/"
        },
        "id": "1XlTPqMdafTF",
        "outputId": "7f7bf003-ac03-44b4-cb11-2b79ec7af14b"
      },
      "execution_count": 13,
      "outputs": [
        {
          "output_type": "stream",
          "name": "stdout",
          "text": [
            "10000000\n",
            "24\n"
          ]
        }
      ]
    },
    {
      "cell_type": "code",
      "source": [
        "#ABC 093 B問題\n",
        "\n",
        "A, B, K = map(int, input().split())\n",
        "\n",
        "list = []\n",
        "\n",
        "for i in range(A, A + K):\n",
        "  if A <= i <= B:\n",
        "    list.append(i)\n",
        "\n",
        "for i in range(B - K + 1, B + 1):\n",
        "  if A <= i <= B:\n",
        "    if list.count(i) == 0:\n",
        "      list.append(i)\n",
        "\n",
        "for i in list:\n",
        "  print(i)"
      ],
      "metadata": {
        "colab": {
          "base_uri": "https://localhost:8080/"
        },
        "id": "fJxRhur5bTGU",
        "outputId": "4b00669c-2cbf-4996-9c51-87099c932708"
      },
      "execution_count": 18,
      "outputs": [
        {
          "output_type": "stream",
          "name": "stdout",
          "text": [
            "2 9 100\n",
            "2\n",
            "3\n",
            "4\n",
            "5\n",
            "6\n",
            "7\n",
            "8\n",
            "9\n"
          ]
        }
      ]
    },
    {
      "cell_type": "code",
      "source": [],
      "metadata": {
        "id": "BpbkUPM1eCkO"
      },
      "execution_count": null,
      "outputs": []
    }
  ]
}